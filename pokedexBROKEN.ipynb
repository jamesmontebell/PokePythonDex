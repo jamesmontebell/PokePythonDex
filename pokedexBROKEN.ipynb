{
 "cells": [
  {
   "cell_type": "code",
   "execution_count": 1,
   "metadata": {},
   "outputs": [
    {
     "ename": "",
     "evalue": "",
     "output_type": "error",
     "traceback": [
      "\u001b[1;31mThe Kernel crashed while executing code in the the current cell or a previous cell. Please review the code in the cell(s) to identify a possible cause of the failure. Click <a href='https://aka.ms/vscodeJupyterKernelCrash'>here</a> for more info. View Jupyter <a href='command:jupyter.viewOutput'>log</a> for further details."
     ]
    },
    {
     "ename": "",
     "evalue": "",
     "output_type": "error",
     "traceback": [
      "\u001b[1;31mCanceled future for execute_request message before replies were done"
     ]
    }
   ],
   "source": [
    "import pypokedex\n",
    "import tkinter as tk\n",
    "import urllib3\n",
    "import PIL.Image, PIL.ImageTk\n",
    "from io import BytesIO\n",
    "\n",
    "window = tk.Tk()\n",
    "window.geometry('600x500')\n",
    "window.title(\"PokeDex\")\n",
    "window.config(padx=10, pady=10)\n",
    "\n",
    "title_label = tk.Label(window, text = 'PokeDex')\n",
    "title_label.config(font=(\"Arial\", 32))\n",
    "title_label.pack(padx=10, pady=10)\n",
    "\n",
    "pokemon_image = tk.Label(window)\n",
    "pokemon_image.pack()\n",
    "\n",
    "pokemon_information = tk.Label(window)\n",
    "pokemon_information.config(font=(\"Arial\", 20))\n",
    "pokemon_information.pack(padx=10, pady=10)\n",
    "\n",
    "pokemon_types = tk.Label(window)\n",
    "pokemon_types.config(font=(\"Arial\", 20))\n",
    "pokemon_types.pack(padx=10, pady=10)\n",
    "\n",
    "# Function\n",
    "\n",
    "def load_pokemon():\n",
    "    pokemon = pypokedex.get(name=text_id_name.get(1.0, \"end-1c\"))\n",
    "    \n",
    "    http = urllib3.PoolManager()\n",
    "    response = http.request('GET', pokemon.sprites.front.get('default'))\n",
    "    image = PIL.Image.open(BytesIO(response.data))\n",
    "    \n",
    "    img = PIL.ImageTk.PhotoImage(image)\n",
    "    pokemon_image.config(image=img)\n",
    "    pokemon_image.image = img\n",
    "    \n",
    "    pokemon_information.config(text=f\"{pokemon.dex} - {pokemon.name}\")\n",
    "    pokemon_types.config(text=f\"{pokemon.types}\")\n",
    "\n",
    "label_id_name = tk.Label(window,text='ID or Name')\n",
    "label_id_name.config(font=(\"Arial\", 20))\n",
    "label_id_name.pack(padx=10, pady=10)\n",
    "\n",
    "text_id_name = tk.Text(window, height=1)\n",
    "text_id_name.config(font=(\"Arial\", 20)) \n",
    "text_id_name.pack(padx=10, pady=10)\n",
    "\n",
    "btn_load = tk.Button(window, text=\"Search\", command=load_pokemon)\n",
    "btn_load.config(font=(\"Arial\", 20))\n",
    "btn_load.pack(padx=10, pady=10)\n",
    "\n",
    "window.mainloop()"
   ]
  },
  {
   "cell_type": "code",
   "execution_count": null,
   "metadata": {},
   "outputs": [],
   "source": []
  }
 ],
 "metadata": {
  "kernelspec": {
   "display_name": "Python 3.9.12 ('base')",
   "language": "python",
   "name": "python3"
  },
  "language_info": {
   "codemirror_mode": {
    "name": "ipython",
    "version": 3
   },
   "file_extension": ".py",
   "mimetype": "text/x-python",
   "name": "python",
   "nbconvert_exporter": "python",
   "pygments_lexer": "ipython3",
   "version": "3.9.12"
  },
  "orig_nbformat": 4,
  "vscode": {
   "interpreter": {
    "hash": "5fe847182bed11962157f9a615e8e85070321821e991462ec7ab8dbd26207ec1"
   }
  }
 },
 "nbformat": 4,
 "nbformat_minor": 2
}
